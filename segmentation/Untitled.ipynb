{
 "cells": [
  {
   "cell_type": "code",
   "execution_count": 1,
   "id": "ad8e8d60-37aa-4b29-b924-eed5612418a8",
   "metadata": {},
   "outputs": [],
   "source": [
    "import sys\n",
    "from os.path import dirname\n",
    "sys.path.append(dirname('Users/joehyungjun/cityscapesScripts'))"
   ]
  },
  {
   "cell_type": "code",
   "execution_count": 2,
   "id": "c7f63bf9-5ae1-42d3-861b-c876c58cc01f",
   "metadata": {},
   "outputs": [
    {
     "name": "stdout",
     "output_type": "stream",
     "text": [
      "Requirement already satisfied: pyquaternion in /opt/homebrew/Cellar/jupyterlab/4.2.3/libexec/lib/python3.12/site-packages (0.9.9)\n",
      "Requirement already satisfied: numpy in /opt/homebrew/lib/python3.12/site-packages (from pyquaternion) (2.0.0)\n",
      "\n",
      "\u001b[1m[\u001b[0m\u001b[34;49mnotice\u001b[0m\u001b[1;39;49m]\u001b[0m\u001b[39;49m A new release of pip is available: \u001b[0m\u001b[31;49m24.0\u001b[0m\u001b[39;49m -> \u001b[0m\u001b[32;49m24.1.2\u001b[0m\n",
      "\u001b[1m[\u001b[0m\u001b[34;49mnotice\u001b[0m\u001b[1;39;49m]\u001b[0m\u001b[39;49m To update, run: \u001b[0m\u001b[32;49m/opt/homebrew/Cellar/jupyterlab/4.2.3/libexec/bin/python -m pip install --upgrade pip\u001b[0m\n",
      "Note: you may need to restart the kernel to use updated packages.\n"
     ]
    }
   ],
   "source": [
    "pip install pyquaternion"
   ]
  },
  {
   "cell_type": "code",
   "execution_count": 2,
   "id": "51b76ae2-2532-4725-89cb-30faa21f4284",
   "metadata": {},
   "outputs": [
    {
     "name": "stdout",
     "output_type": "stream",
     "text": [
      "/Users/joehyungjun\n"
     ]
    },
    {
     "name": "stderr",
     "output_type": "stream",
     "text": [
      "/opt/homebrew/Cellar/jupyterlab/4.2.3/libexec/lib/python3.12/site-packages/IPython/core/magics/osm.py:393: UserWarning: This is now an optional IPython functionality, using bookmarks requires you to install the `pickleshare` library.\n",
      "  bkms = self.shell.db.get('bookmarks', {})\n",
      "/opt/homebrew/Cellar/jupyterlab/4.2.3/libexec/lib/python3.12/site-packages/IPython/core/magics/osm.py:428: UserWarning: This is now an optional IPython functionality, setting dhist requires you to install the `pickleshare` library.\n",
      "  self.shell.db['dhist'] = compress_dhist(dhist)[-100:]\n"
     ]
    }
   ],
   "source": [
    "cd"
   ]
  },
  {
   "cell_type": "code",
   "execution_count": 3,
   "id": "fab7e03d-6041-4600-94e0-b47ed1accdfe",
   "metadata": {},
   "outputs": [
    {
     "name": "stdout",
     "output_type": "stream",
     "text": [
      "/Users/joehyungjun/cityscapesScripts\n"
     ]
    },
    {
     "name": "stderr",
     "output_type": "stream",
     "text": [
      "/opt/homebrew/Cellar/jupyterlab/4.2.3/libexec/lib/python3.12/site-packages/IPython/core/magics/osm.py:417: UserWarning: This is now an optional IPython functionality, setting dhist requires you to install the `pickleshare` library.\n",
      "  self.shell.db['dhist'] = compress_dhist(dhist)[-100:]\n"
     ]
    }
   ],
   "source": [
    "cd cityscapesScripts"
   ]
  },
  {
   "cell_type": "code",
   "execution_count": 4,
   "id": "072bdbd7-a50e-47cc-8119-8d6b07b97407",
   "metadata": {},
   "outputs": [
    {
     "name": "stdout",
     "output_type": "stream",
     "text": [
      "LICENSE              \u001b[34mdocs\u001b[m\u001b[m/                setup.py\n",
      "README.md            \u001b[34mgtFine_trainvaltest\u001b[m\u001b[m/\n",
      "\u001b[34mcityscapesscripts\u001b[m\u001b[m/   setup.cfg\n"
     ]
    }
   ],
   "source": [
    "ls"
   ]
  },
  {
   "cell_type": "code",
   "execution_count": 5,
   "id": "06da188e-c08f-4e8e-9e53-4677c4cc6473",
   "metadata": {},
   "outputs": [],
   "source": [
    "import cityscapesscripts.preparation.createPanopticImgs as cr"
   ]
  },
  {
   "cell_type": "code",
   "execution_count": 6,
   "id": "5a881fac-803e-4d9b-b184-c29135b7a04a",
   "metadata": {},
   "outputs": [
    {
     "name": "stdout",
     "output_type": "stream",
     "text": [
      "Converting 500 annotation files for val set.\n",
      "Json file with the annotations in panoptic format will be saved in ./gtFine_trainvaltest/gtFine/cityscapes_panoptic_val.json\n",
      "Corresponding segmentations in .png format will be saved in ./gtFine_trainvaltest/gtFine/cityscapes_panoptic_val\n",
      "Progress: 100.00 % \n",
      "Saving the json file ./gtFine_trainvaltest/gtFine/cityscapes_panoptic_val.json\n",
      "Converting 2975 annotation files for train set.\n",
      "Json file with the annotations in panoptic format will be saved in ./gtFine_trainvaltest/gtFine/cityscapes_panoptic_train.json\n",
      "Creating folder ./gtFine_trainvaltest/gtFine/cityscapes_panoptic_train for panoptic segmentation PNGs\n",
      "Corresponding segmentations in .png format will be saved in ./gtFine_trainvaltest/gtFine/cityscapes_panoptic_train\n",
      "Progress: 100.00 %   \n",
      "Saving the json file ./gtFine_trainvaltest/gtFine/cityscapes_panoptic_train.json\n",
      "Converting 1525 annotation files for test set.\n",
      "Json file with the annotations in panoptic format will be saved in ./gtFine_trainvaltest/gtFine/cityscapes_panoptic_test.json\n",
      "Creating folder ./gtFine_trainvaltest/gtFine/cityscapes_panoptic_test for panoptic segmentation PNGs\n",
      "Corresponding segmentations in .png format will be saved in ./gtFine_trainvaltest/gtFine/cityscapes_panoptic_test\n",
      "Progress: 100.00 % \n",
      "Saving the json file ./gtFine_trainvaltest/gtFine/cityscapes_panoptic_test.json\n"
     ]
    }
   ],
   "source": [
    "cr.convert2panoptic('./gtFine_trainvaltest/gtFine')"
   ]
  },
  {
   "cell_type": "code",
   "execution_count": 10,
   "id": "956b42a0-c798-4a32-a264-d77270219ded",
   "metadata": {},
   "outputs": [],
   "source": [
    "import glob\n",
    "import os\n",
    "cityscapesPath = 'Users/joehyungjun/workspace/segmentation/cityscape_dataset/gtFine_trainvaltest/gtFine'\n",
    "setName = 'train'\n",
    "searchFine   = os.path.join(cityscapesPath, setName, \"*\", \"*_instanceIds.png\")\n",
    "filesFine = glob.glob(searchFine)\n",
    "filesFine.sort()\n",
    "files = filesFine"
   ]
  },
  {
   "cell_type": "code",
   "execution_count": 9,
   "id": "9d318925-edb1-4750-a699-0eee60bc3f63",
   "metadata": {},
   "outputs": [
    {
     "data": {
      "text/plain": [
       "'Users/joehyungjun/workspace/segmentation/cityscape_dataset/gtFine_trainvaltest/gtFine/train/*/*_instanceIds.png'"
      ]
     },
     "execution_count": 9,
     "metadata": {},
     "output_type": "execute_result"
    }
   ],
   "source": [
    "searchFine"
   ]
  },
  {
   "cell_type": "code",
   "execution_count": 11,
   "id": "d629e490-6ea7-40cf-96a7-211e52747eae",
   "metadata": {},
   "outputs": [
    {
     "data": {
      "text/plain": [
       "[]"
      ]
     },
     "execution_count": 11,
     "metadata": {},
     "output_type": "execute_result"
    }
   ],
   "source": [
    "files"
   ]
  },
  {
   "cell_type": "code",
   "execution_count": null,
   "id": "16dda0fd-2c9b-42d6-8643-362afbd08416",
   "metadata": {},
   "outputs": [],
   "source": []
  }
 ],
 "metadata": {
  "kernelspec": {
   "display_name": "Python 3 (ipykernel)",
   "language": "python",
   "name": "python3"
  },
  "language_info": {
   "codemirror_mode": {
    "name": "ipython",
    "version": 3
   },
   "file_extension": ".py",
   "mimetype": "text/x-python",
   "name": "python",
   "nbconvert_exporter": "python",
   "pygments_lexer": "ipython3",
   "version": "3.12.4"
  }
 },
 "nbformat": 4,
 "nbformat_minor": 5
}
